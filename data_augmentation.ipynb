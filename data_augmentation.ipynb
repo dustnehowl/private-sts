{
 "cells": [
  {
   "cell_type": "code",
   "execution_count": 1,
   "metadata": {
    "collapsed": true,
    "ExecuteTime": {
     "start_time": "2023-12-15T22:04:46.447096Z",
     "end_time": "2023-12-15T22:04:47.012450Z"
    }
   },
   "outputs": [],
   "source": [
    "import pandas as pd"
   ]
  },
  {
   "cell_type": "code",
   "execution_count": 4,
   "outputs": [
    {
     "data": {
      "text/plain": "                               id            source  \\\n907    boostcamp-sts-v1-train-907      nsmc-sampled   \n34     boostcamp-sts-v1-train-034          nsmc-rtt   \n5661  boostcamp-sts-v1-train-5661         slack-rtt   \n6409  boostcamp-sts-v1-train-6409  petition-sampled   \n2158  boostcamp-sts-v1-train-2158  petition-sampled   \n\n                                             sentence_1  \\\n907                                    가족의 의미, 부성애, 모성애   \n34    전설따라 삼천리(삼만리인가?)에 의하면 이 영화가 꽤 괜찮다고 할뿐 아니라 내가 좋...   \n5661                                  아니 당근이 진짜 당근일줄은ㅋㅋ   \n6409                                        최저임금에 대한 의견   \n2158                                        택배 화물차 보복신고   \n\n                                             sentence_2  label  binary-label  \n907    어릴때 보고 정말이지 묵직한 부성애와 사랑하는 사람과의 슬픔, 인생의 복잡함을 느꼈다.    1.2           0.0  \n34    전설에 따르면 삼천리(삼천리?)에 따르면 이 영화는 꽤 괜찮을 뿐만 아니라 내가 제...    4.0           1.0  \n5661                          아뇨 당근이 진짜 당근은 아닌 것 같아요 ㅎㅎ    1.2           0.0  \n6409                                  최저임금에 대한 재고 부탁합니다    2.8           1.0  \n2158                                 대형 화물차 가변축 압 조절...    0.2           0.0  ",
      "text/html": "<div>\n<style scoped>\n    .dataframe tbody tr th:only-of-type {\n        vertical-align: middle;\n    }\n\n    .dataframe tbody tr th {\n        vertical-align: top;\n    }\n\n    .dataframe thead th {\n        text-align: right;\n    }\n</style>\n<table border=\"1\" class=\"dataframe\">\n  <thead>\n    <tr style=\"text-align: right;\">\n      <th></th>\n      <th>id</th>\n      <th>source</th>\n      <th>sentence_1</th>\n      <th>sentence_2</th>\n      <th>label</th>\n      <th>binary-label</th>\n    </tr>\n  </thead>\n  <tbody>\n    <tr>\n      <th>907</th>\n      <td>boostcamp-sts-v1-train-907</td>\n      <td>nsmc-sampled</td>\n      <td>가족의 의미, 부성애, 모성애</td>\n      <td>어릴때 보고 정말이지 묵직한 부성애와 사랑하는 사람과의 슬픔, 인생의 복잡함을 느꼈다.</td>\n      <td>1.2</td>\n      <td>0.0</td>\n    </tr>\n    <tr>\n      <th>34</th>\n      <td>boostcamp-sts-v1-train-034</td>\n      <td>nsmc-rtt</td>\n      <td>전설따라 삼천리(삼만리인가?)에 의하면 이 영화가 꽤 괜찮다고 할뿐 아니라 내가 좋...</td>\n      <td>전설에 따르면 삼천리(삼천리?)에 따르면 이 영화는 꽤 괜찮을 뿐만 아니라 내가 제...</td>\n      <td>4.0</td>\n      <td>1.0</td>\n    </tr>\n    <tr>\n      <th>5661</th>\n      <td>boostcamp-sts-v1-train-5661</td>\n      <td>slack-rtt</td>\n      <td>아니 당근이 진짜 당근일줄은ㅋㅋ</td>\n      <td>아뇨 당근이 진짜 당근은 아닌 것 같아요 ㅎㅎ</td>\n      <td>1.2</td>\n      <td>0.0</td>\n    </tr>\n    <tr>\n      <th>6409</th>\n      <td>boostcamp-sts-v1-train-6409</td>\n      <td>petition-sampled</td>\n      <td>최저임금에 대한 의견</td>\n      <td>최저임금에 대한 재고 부탁합니다</td>\n      <td>2.8</td>\n      <td>1.0</td>\n    </tr>\n    <tr>\n      <th>2158</th>\n      <td>boostcamp-sts-v1-train-2158</td>\n      <td>petition-sampled</td>\n      <td>택배 화물차 보복신고</td>\n      <td>대형 화물차 가변축 압 조절...</td>\n      <td>0.2</td>\n      <td>0.0</td>\n    </tr>\n  </tbody>\n</table>\n</div>"
     },
     "execution_count": 4,
     "metadata": {},
     "output_type": "execute_result"
    }
   ],
   "source": [
    "df = pd.read_csv('../train.csv')\n",
    "df.sample(5)"
   ],
   "metadata": {
    "collapsed": false,
    "ExecuteTime": {
     "start_time": "2023-12-15T22:07:04.863568Z",
     "end_time": "2023-12-15T22:07:04.895088Z"
    }
   }
  },
  {
   "cell_type": "code",
   "execution_count": 5,
   "outputs": [
    {
     "name": "stderr",
     "output_type": "stream",
     "text": [
      "None of PyTorch, TensorFlow >= 2.0, or Flax have been found. Models won't be available and only tokenizers, configuration and file/data utilities can be used.\n"
     ]
    }
   ],
   "source": [
    "import json\n",
    "\n",
    "import pandas as pd\n",
    "from matplotlib import pyplot as plt\n",
    "\n",
    "from tqdm import tqdm\n",
    "from transformers import AutoTokenizer"
   ],
   "metadata": {
    "collapsed": false,
    "ExecuteTime": {
     "start_time": "2023-12-15T22:09:35.924391Z",
     "end_time": "2023-12-15T22:09:36.983140Z"
    }
   }
  },
  {
   "cell_type": "code",
   "execution_count": 10,
   "outputs": [],
   "source": [
    "df = pd.read_csv('../train.csv')"
   ],
   "metadata": {
    "collapsed": false,
    "ExecuteTime": {
     "start_time": "2023-12-15T22:12:29.772282Z",
     "end_time": "2023-12-15T22:12:29.814565Z"
    }
   }
  },
  {
   "cell_type": "code",
   "execution_count": 14,
   "outputs": [],
   "source": [
    "# 입력의 두 문장을 토크나이징하여 길이와 unk 토큰의 개수를 분석합니다\n",
    "def tokenizing(df):\n",
    "    tokenizer = AutoTokenizer.from_pretrained('klue/roberta-large')\n",
    "\n",
    "    sentence1_len = []\n",
    "    sentence2_len = []\n",
    "    sentence1_unk = []\n",
    "    sentence2_unk = []\n",
    "    for i, item in df.iterrows():\n",
    "        sentence1 = tokenizer(item['sentence_1'])['input_ids']\n",
    "        sentence2 = tokenizer(item['sentence_2'])['input_ids']\n",
    "\n",
    "        sentence1_len.append(len(sentence1))\n",
    "        sentence2_len.append(len(sentence2))\n",
    "\n",
    "        sentence1_unk.append(sentence1.count(tokenizer.unk_token_id))\n",
    "        sentence2_unk.append(sentence2.count(tokenizer.unk_token_id))\n",
    "\n",
    "    tokenized_df = pd.DataFrame([sentence1_len, sentence2_len, sentence1_unk, sentence2_unk]).transpose()\n",
    "    tokenized_df.columns = ['1_len', '2_len', '1_unk', '2_unk']\n",
    "    print(tokenized_df.describe())"
   ],
   "metadata": {
    "collapsed": false,
    "ExecuteTime": {
     "start_time": "2023-12-15T22:13:31.976594Z",
     "end_time": "2023-12-15T22:13:31.979678Z"
    }
   }
  },
  {
   "cell_type": "code",
   "execution_count": 15,
   "outputs": [
    {
     "name": "stdout",
     "output_type": "stream",
     "text": [
      "             1_len        2_len        1_unk        2_unk\n",
      "count  9324.000000  9324.000000  9324.000000  9324.000000\n",
      "mean     14.848241    14.958387     0.028958     0.022308\n",
      "std       7.771558     7.201888     0.179438     0.156163\n",
      "min       3.000000     3.000000     0.000000     0.000000\n",
      "25%      10.000000    10.000000     0.000000     0.000000\n",
      "50%      13.000000    13.000000     0.000000     0.000000\n",
      "75%      17.000000    18.000000     0.000000     0.000000\n",
      "max      88.000000    84.000000     4.000000     2.000000\n"
     ]
    }
   ],
   "source": [
    "tokenizing(df)"
   ],
   "metadata": {
    "collapsed": false,
    "ExecuteTime": {
     "start_time": "2023-12-15T22:13:32.760115Z",
     "end_time": "2023-12-15T22:13:33.840468Z"
    }
   }
  },
  {
   "cell_type": "code",
   "execution_count": 16,
   "outputs": [],
   "source": [
    "# label의 분포를 box plot으로 그립니다\n",
    "def draw_box_plot(df):\n",
    "    label_list = [row['label'] for i, row in df.iterrows()]\n",
    "\n",
    "    plt.boxplot(label_list)\n",
    "    plt.title(\"Boxplot for target label\")\n",
    "    plt.show()"
   ],
   "metadata": {
    "collapsed": false,
    "ExecuteTime": {
     "start_time": "2023-12-15T22:13:46.305297Z",
     "end_time": "2023-12-15T22:13:46.310667Z"
    }
   }
  },
  {
   "cell_type": "code",
   "execution_count": 30,
   "outputs": [],
   "source": [
    "# pandas 데이터를 가지고 그래프를 그리는 함수입니다\n",
    "def draw_graph(df):\n",
    "    source_binary = {source:[0, 0] for source in sorted(df['source'].unique())}\n",
    "    # print(source_binary)\n",
    "    # print(df.sample(10))\n",
    "    # for i, item in df.iterrows():\n",
    "    #     source_binary[item['source']][item['binary-label']] += 1\n",
    "    # source_binary_df = pd.DataFrame(source_binary).transpose()\n",
    "\n",
    "    # source의 분포\n",
    "    df['source'].value_counts().plot(kind='bar', rot=20, figsize=(8, 6))\n",
    "    plt.show()\n",
    "    # # source별 binary label의 분포\n",
    "    # source_binary_df.plot(kind='bar', rot=20, figsize=(8, 6))\n",
    "    plt.show()\n",
    "    # label의 분포\n",
    "    df['label'].plot(kind='hist', rot=20, figsize=(8, 6))\n",
    "    plt.show()\n",
    "    # binary label의 분포\n",
    "    df['binary-label'].value_counts().plot(kind='bar', rot=20, figsize=(8, 6))\n",
    "    plt.show()"
   ],
   "metadata": {
    "collapsed": false,
    "ExecuteTime": {
     "start_time": "2023-12-15T22:23:03.810517Z",
     "end_time": "2023-12-15T22:23:03.813574Z"
    }
   }
  },
  {
   "cell_type": "code",
   "execution_count": 31,
   "outputs": [
    {
     "name": "stdout",
     "output_type": "stream",
     "text": [
      "train\n"
     ]
    },
    {
     "data": {
      "text/plain": "<Figure size 640x480 with 1 Axes>",
      "image/png": "[encoded data removed]"
     },
     "metadata": {},
     "output_type": "display_data"
    }
   ],
   "source": [
    "# label 분포 확인\n",
    "print(\"train\")\n",
    "draw_box_plot(df)"
   ],
   "metadata": {
    "collapsed": false,
    "ExecuteTime": {
     "start_time": "2023-12-15T22:23:03.962341Z",
     "end_time": "2023-12-15T22:23:04.165262Z"
    }
   }
  },
  {
   "cell_type": "code",
   "execution_count": 32,
   "outputs": [
    {
     "data": {
      "text/plain": "<Figure size 800x600 with 1 Axes>",
      "image/png": "[encoded data removed]"
     },
     "metadata": {},
     "output_type": "display_data"
    },
    {
     "data": {
      "text/plain": "<Figure size 800x600 with 1 Axes>",
      "image/png": "[encoded data removed]"
     },
     "metadata": {},
     "output_type": "display_data"
    },
    {
     "data": {
      "text/plain": "<Figure size 800x600 with 1 Axes>",
      "image/png": "[encoded data removed]"
     },
     "metadata": {},
     "output_type": "display_data"
    }
   ],
   "source": [
    "draw_graph(df)"
   ],
   "metadata": {
    "collapsed": false,
    "ExecuteTime": {
     "start_time": "2023-12-15T22:23:04.170850Z",
     "end_time": "2023-12-15T22:23:04.320105Z"
    }
   }
  },
  {
   "cell_type": "code",
   "execution_count": 37,
   "outputs": [],
   "source": [
    "import random\n",
    "import pickle\n",
    "import re"
   ],
   "metadata": {
    "collapsed": false,
    "ExecuteTime": {
     "start_time": "2023-12-16T03:55:36.275234Z",
     "end_time": "2023-12-16T03:55:36.278060Z"
    }
   }
  },
  {
   "cell_type": "code",
   "execution_count": 296,
   "outputs": [],
   "source": [
    "wordnet = {}\n",
    "with open(\"../wordnet.pickle\", \"rb\") as f:\n",
    "\twordnet = pickle.load(f)"
   ],
   "metadata": {
    "collapsed": false,
    "ExecuteTime": {
     "start_time": "2023-12-16T15:08:38.176811Z",
     "end_time": "2023-12-16T15:08:38.188951Z"
    }
   }
  },
  {
   "cell_type": "code",
   "execution_count": 297,
   "outputs": [],
   "source": [
    "# 한글만 남기고 나머지는 삭제\n",
    "def get_only_hangul(line):\n",
    "\tparseText= re.compile('/ ^[ㄱ-ㅎㅏ-ㅣ가-힣]*$/').sub('',line)\n",
    "\n",
    "\treturn parseText"
   ],
   "metadata": {
    "collapsed": false,
    "ExecuteTime": {
     "start_time": "2023-12-16T15:08:38.847064Z",
     "end_time": "2023-12-16T15:08:38.859319Z"
    }
   }
  },
  {
   "cell_type": "code",
   "execution_count": 321,
   "outputs": [],
   "source": [
    "def synonym_replacement(words, n):\n",
    "\tnew_words = words.copy()\n",
    "\trandom_word_list = list(set([word for word in words]))\n",
    "\tprint(random_word_list)\n",
    "\trandom.shuffle(random_word_list)\n",
    "\tnum_replaced = 0\n",
    "\tfor random_word in random_word_list:\n",
    "\t\tsynonyms = get_synonyms(random_word)\n",
    "\t\tif len(synonyms) >= 1:\n",
    "\t\t\tsynonym = random.choice(list(synonyms))\n",
    "\t\t\tnew_words = [synonym if word == random_word else word for word in new_words]\n",
    "\t\t\tnum_replaced += 1\n",
    "\t\tif num_replaced >= n:\n",
    "\t\t\tbreak\n",
    "\n",
    "\tif len(new_words) != 0:\n",
    "\t\tsentence = ' '.join(new_words)\n",
    "\t\tnew_words = sentence.split(\" \")\n",
    "\n",
    "\telse:\n",
    "\t\tnew_words = \"\"\n",
    "\n",
    "\treturn new_words"
   ],
   "metadata": {
    "collapsed": false,
    "ExecuteTime": {
     "start_time": "2023-12-16T15:12:41.316835Z",
     "end_time": "2023-12-16T15:12:41.324989Z"
    }
   }
  },
  {
   "cell_type": "code",
   "execution_count": 322,
   "outputs": [
    {
     "name": "stdout",
     "output_type": "stream",
     "text": [
      "['출발할', '있을', '회의가', '아직', '수', '것', '6시쯤', '계신분들이', '안끝나서', '오피스에', '같습니다']\n"
     ]
    },
    {
     "data": {
      "text/plain": "['오피스에', '계신분들이', '회의가', '아직', '안끝나서', '6시쯤', '출발할', '수', '있을', '것', '같습니다']"
     },
     "execution_count": 322,
     "metadata": {},
     "output_type": "execute_result"
    }
   ],
   "source": [
    "synonym_replacement([\"오피스에\", \"계신분들이\", \"회의가\", \"아직\", \"안끝나서\", \"6시쯤\", \"출발할\", \"수\", \"있을\", \"것\", \"같습니다\"], 5)"
   ],
   "metadata": {
    "collapsed": false,
    "ExecuteTime": {
     "start_time": "2023-12-16T15:12:41.934249Z",
     "end_time": "2023-12-16T15:12:41.941337Z"
    }
   }
  },
  {
   "cell_type": "code",
   "execution_count": 323,
   "outputs": [],
   "source": [
    "def get_synonyms(word):\n",
    "\tsynomyms = []\n",
    "\ttry:\n",
    "\t\tfor syn in wordnet[word]:\n",
    "\t\t\tfor s in syn:\n",
    "\t\t\t\tsynomyms.append(s)\n",
    "\texcept:\n",
    "\t\tpass\n",
    "\n",
    "\treturn synomyms"
   ],
   "metadata": {
    "collapsed": false,
    "ExecuteTime": {
     "start_time": "2023-12-16T15:12:43.414293Z",
     "end_time": "2023-12-16T15:12:43.417009Z"
    }
   }
  },
  {
   "cell_type": "code",
   "execution_count": 324,
   "outputs": [],
   "source": [
    "def random_deletion(words, p):\n",
    "\tif len(words) == 1:\n",
    "\t\treturn words\n",
    "\n",
    "\tnew_words = []\n",
    "\tfor word in words:\n",
    "\t\tr = random.uniform(0, 1)\n",
    "\t\tif r > p:\n",
    "\t\t\tnew_words.append(word)\n",
    "\n",
    "\tif len(new_words) == 0:\n",
    "\t\trand_int = random.randint(0, len(words)-1)\n",
    "\t\treturn [words[rand_int]]\n",
    "\n",
    "\treturn new_words"
   ],
   "metadata": {
    "collapsed": false,
    "ExecuteTime": {
     "start_time": "2023-12-16T15:12:43.605183Z",
     "end_time": "2023-12-16T15:12:43.612215Z"
    }
   }
  },
  {
   "cell_type": "code",
   "execution_count": 325,
   "outputs": [],
   "source": [
    "def random_swap(words, n):\n",
    "\tnew_words = words.copy()\n",
    "\tfor _ in range(n):\n",
    "\t\tnew_words = swap_word(new_words)\n",
    "\n",
    "\treturn new_words"
   ],
   "metadata": {
    "collapsed": false,
    "ExecuteTime": {
     "start_time": "2023-12-16T15:12:43.777983Z",
     "end_time": "2023-12-16T15:12:43.785516Z"
    }
   }
  },
  {
   "cell_type": "code",
   "execution_count": 326,
   "outputs": [],
   "source": [
    "def swap_word(new_words):\n",
    "\trandom_idx_1 = random.randint(0, len(new_words)-1)\n",
    "\trandom_idx_2 = random_idx_1\n",
    "\tcounter = 0\n",
    "\n",
    "\twhile random_idx_2 == random_idx_1:\n",
    "\t\trandom_idx_2 = random.randint(0, len(new_words)-1)\n",
    "\t\tcounter += 1\n",
    "\t\tif counter > 3:\n",
    "\t\t\treturn new_words\n",
    "\n",
    "\tnew_words[random_idx_1], new_words[random_idx_2] = new_words[random_idx_2], new_words[random_idx_1]\n",
    "\treturn new_words"
   ],
   "metadata": {
    "collapsed": false,
    "ExecuteTime": {
     "start_time": "2023-12-16T15:12:43.997158Z",
     "end_time": "2023-12-16T15:12:44.004554Z"
    }
   }
  },
  {
   "cell_type": "code",
   "execution_count": 327,
   "outputs": [],
   "source": [
    "def random_insertion(words, n):\n",
    "\tnew_words = words.copy()\n",
    "\tfor _ in range(n):\n",
    "\t\tadd_word(new_words)\n",
    "\n",
    "\treturn new_words"
   ],
   "metadata": {
    "collapsed": false,
    "ExecuteTime": {
     "start_time": "2023-12-16T15:12:44.258283Z",
     "end_time": "2023-12-16T15:12:44.261233Z"
    }
   }
  },
  {
   "cell_type": "code",
   "execution_count": 328,
   "outputs": [],
   "source": [
    "def add_word(new_words):\n",
    "\tsynonyms = []\n",
    "\tcounter = 0\n",
    "\twhile len(synonyms) < 1:\n",
    "\t\tif len(new_words) >= 1:\n",
    "\t\t\trandom_word = new_words[random.randint(0, len(new_words)-1)]\n",
    "\t\t\tsynonyms = get_synonyms(random_word)\n",
    "\t\t\tcounter += 1\n",
    "\t\telse:\n",
    "\t\t\trandom_word = \"\"\n",
    "\n",
    "\t\tif counter >= 10:\n",
    "\t\t\treturn\n",
    "\n",
    "\trandom_synonym = synonyms[0]\n",
    "\trandom_idx = random.randint(0, len(new_words)-1)\n",
    "\tnew_words.insert(random_idx, random_synonym)"
   ],
   "metadata": {
    "collapsed": false,
    "ExecuteTime": {
     "start_time": "2023-12-16T15:12:44.625828Z",
     "end_time": "2023-12-16T15:12:44.633685Z"
    }
   }
  },
  {
   "cell_type": "code",
   "execution_count": null,
   "outputs": [],
   "source": [
    "# 문장을 형태소로 나눈다.\n"
   ],
   "metadata": {
    "collapsed": false
   }
  },
  {
   "cell_type": "code",
   "execution_count": 329,
   "outputs": [
    {
     "name": "stderr",
     "output_type": "stream",
     "text": [
      "<>:4: SyntaxWarning: \"is not\" with a literal. Did you mean \"!=\"?\n",
      "<>:22: SyntaxWarning: \"is not\" with a literal. Did you mean \"!=\"?\n",
      "<>:4: SyntaxWarning: \"is not\" with a literal. Did you mean \"!=\"?\n",
      "<>:22: SyntaxWarning: \"is not\" with a literal. Did you mean \"!=\"?\n",
      "/var/folders/q2/pb2t6n9s2j39c0blxxp0tq8c0000gn/T/ipykernel_84382/599012282.py:4: SyntaxWarning: \"is not\" with a literal. Did you mean \"!=\"?\n",
      "  words = [word for word in words if word is not \"\"]\n",
      "/var/folders/q2/pb2t6n9s2j39c0blxxp0tq8c0000gn/T/ipykernel_84382/599012282.py:22: SyntaxWarning: \"is not\" with a literal. Did you mean \"!=\"?\n",
      "  words = [word for word in words if word is not \"\"]\n"
     ]
    }
   ],
   "source": [
    "def SR(sentence, alpha_sr=0.1):\n",
    "\tsentence = get_only_hangul(sentence)\n",
    "\twords = sentence.split(' ')\n",
    "\twords = [word for word in words if word is not \"\"]\n",
    "\tnum_words = len(words)\n",
    "\n",
    "\taugmented_sentences = []\n",
    "\tn_sr = max(1, int(alpha_sr*num_words))\n",
    "\n",
    "\ta_words = synonym_replacement(words, n_sr)\n",
    "\taugmented_sentences.append(' '.join(a_words))\n",
    "\n",
    "\taugmented_sentences = [get_only_hangul(sentence) for sentence in augmented_sentences]\n",
    "\trandom.shuffle(augmented_sentences)\n",
    "\n",
    "\treturn augmented_sentences\n",
    "\n",
    "\n",
    "def EDA(sentence, alpha_sr=0.1, alpha_ri=0.1, alpha_rs=0.1, p_rd=0.1, num_aug=9):\n",
    "\tsentence = get_only_hangul(sentence)\n",
    "\twords = sentence.split(' ')\n",
    "\twords = [word for word in words if word is not \"\"]\n",
    "\tnum_words = len(words)\n",
    "\n",
    "\taugmented_sentences = []\n",
    "\tnum_new_per_technique = int(num_aug/4) + 1\n",
    "\n",
    "\tn_sr = max(1, int(alpha_sr*num_words))\n",
    "\tn_ri = max(1, int(alpha_ri*num_words))\n",
    "\tn_rs = max(1, int(alpha_rs*num_words))\n",
    "\n",
    "\t# sr\n",
    "\tfor _ in range(num_new_per_technique):\n",
    "\t\ta_words = synonym_replacement(words, n_sr)\n",
    "\t\taugmented_sentences.append(' '.join(a_words))\n",
    "\n",
    "\t# ri\n",
    "\tfor _ in range(num_new_per_technique):\n",
    "\t\ta_words = random_insertion(words, n_ri)\n",
    "\t\taugmented_sentences.append(' '.join(a_words))\n",
    "\n",
    "\t# rs\n",
    "\tfor _ in range(num_new_per_technique):\n",
    "\t\ta_words = random_swap(words, n_rs)\n",
    "\t\taugmented_sentences.append(\" \".join(a_words))\n",
    "\n",
    "\t# rd\n",
    "\tfor _ in range(num_new_per_technique):\n",
    "\t\ta_words = random_deletion(words, p_rd)\n",
    "\t\taugmented_sentences.append(\" \".join(a_words))\n",
    "\n",
    "\taugmented_sentences = [get_only_hangul(sentence) for sentence in augmented_sentences]\n",
    "\trandom.shuffle(augmented_sentences)\n",
    "\n",
    "\tif num_aug >= 1:\n",
    "\t\taugmented_sentences = augmented_sentences[:num_aug]\n",
    "\telse:\n",
    "\t\tkeep_prob = num_aug / len(augmented_sentences)\n",
    "\t\taugmented_sentences = [s for s in augmented_sentences if random.uniform(0, 1) < keep_prob]\n",
    "\n",
    "\taugmented_sentences.append(sentence)\n",
    "\n",
    "\treturn augmented_sentences"
   ],
   "metadata": {
    "collapsed": false,
    "ExecuteTime": {
     "start_time": "2023-12-16T15:12:44.967865Z",
     "end_time": "2023-12-16T15:12:44.975319Z"
    }
   }
  },
  {
   "cell_type": "code",
   "execution_count": 330,
   "outputs": [
    {
     "name": "stderr",
     "output_type": "stream",
     "text": [
      "<>:4: SyntaxWarning: \"is not\" with a literal. Did you mean \"!=\"?\n",
      "<>:4: SyntaxWarning: \"is not\" with a literal. Did you mean \"!=\"?\n",
      "/var/folders/q2/pb2t6n9s2j39c0blxxp0tq8c0000gn/T/ipykernel_84382/104969733.py:4: SyntaxWarning: \"is not\" with a literal. Did you mean \"!=\"?\n",
      "  words = [word for word in words if word is not \"\"]\n"
     ]
    }
   ],
   "source": [
    "def RI(sentence, alpha_ri=0.1):\n",
    "\tsentence = get_only_hangul(sentence)\n",
    "\twords = sentence.split(' ')\n",
    "\twords = [word for word in words if word is not \"\"]\n",
    "\tnum_words = len(words)\n",
    "\n",
    "\taugmented_sentences = []\n",
    "\tn_ri = max(1, int(alpha_ri*num_words))\n",
    "\n",
    "\ta_words = random_insertion(words, n_ri)\n",
    "\taugmented_sentences.append(' '.join(a_words))\n",
    "\n",
    "\taugmented_sentences = [get_only_hangul(sentence) for sentence in augmented_sentences]\n",
    "\trandom.shuffle(augmented_sentences)\n",
    "\n",
    "\treturn augmented_sentences"
   ],
   "metadata": {
    "collapsed": false,
    "ExecuteTime": {
     "start_time": "2023-12-16T15:12:47.317149Z",
     "end_time": "2023-12-16T15:12:47.326861Z"
    }
   }
  },
  {
   "cell_type": "code",
   "execution_count": 331,
   "outputs": [
    {
     "name": "stderr",
     "output_type": "stream",
     "text": [
      "<>:4: SyntaxWarning: \"is not\" with a literal. Did you mean \"!=\"?\n",
      "<>:4: SyntaxWarning: \"is not\" with a literal. Did you mean \"!=\"?\n",
      "/var/folders/q2/pb2t6n9s2j39c0blxxp0tq8c0000gn/T/ipykernel_84382/1423415713.py:4: SyntaxWarning: \"is not\" with a literal. Did you mean \"!=\"?\n",
      "  words = [word for word in words if word is not \"\"]\n"
     ]
    }
   ],
   "source": [
    "def RS(sentence, alpha_rs=0.1):\n",
    "\tsentence = get_only_hangul(sentence)\n",
    "\twords = sentence.split(' ')\n",
    "\twords = [word for word in words if word is not \"\"]\n",
    "\tnum_words = len(words)\n",
    "\n",
    "\taugmented_sentences = []\n",
    "\tn_rs = max(1, int(alpha_rs*num_words))\n",
    "\n",
    "\ta_words = random_swap(words, n_rs)\n",
    "\taugmented_sentences.append(\" \".join(a_words))\n",
    "\n",
    "\taugmented_sentences = [get_only_hangul(sentence) for sentence in augmented_sentences]\n",
    "\trandom.shuffle(augmented_sentences)\n",
    "\n",
    "\treturn augmented_sentences"
   ],
   "metadata": {
    "collapsed": false,
    "ExecuteTime": {
     "start_time": "2023-12-16T15:12:47.929632Z",
     "end_time": "2023-12-16T15:12:47.932841Z"
    }
   }
  },
  {
   "cell_type": "code",
   "execution_count": 332,
   "outputs": [
    {
     "name": "stderr",
     "output_type": "stream",
     "text": [
      "<>:4: SyntaxWarning: \"is not\" with a literal. Did you mean \"!=\"?\n",
      "<>:4: SyntaxWarning: \"is not\" with a literal. Did you mean \"!=\"?\n",
      "/var/folders/q2/pb2t6n9s2j39c0blxxp0tq8c0000gn/T/ipykernel_84382/762170295.py:4: SyntaxWarning: \"is not\" with a literal. Did you mean \"!=\"?\n",
      "  words = [word for word in words if word is not \"\"]\n"
     ]
    }
   ],
   "source": [
    "def RD(sentence, p_rd=0.1):\n",
    "\tsentence = get_only_hangul(sentence)\n",
    "\twords = sentence.split(' ')\n",
    "\twords = [word for word in words if word is not \"\"]\n",
    "\tnum_words = len(words)\n",
    "\n",
    "\taugmented_sentences = []\n",
    "\n",
    "\ta_words = random_deletion(words, p_rd)\n",
    "\taugmented_sentences.append(\" \".join(a_words))\n",
    "\n",
    "\taugmented_sentences = [get_only_hangul(sentence) for sentence in augmented_sentences]\n",
    "\trandom.shuffle(augmented_sentences)\n",
    "\n",
    "\treturn augmented_sentences"
   ],
   "metadata": {
    "collapsed": false,
    "ExecuteTime": {
     "start_time": "2023-12-16T15:12:48.298791Z",
     "end_time": "2023-12-16T15:12:48.305331Z"
    }
   }
  },
  {
   "cell_type": "code",
   "execution_count": 333,
   "outputs": [
    {
     "name": "stdout",
     "output_type": "stream",
     "text": [
      "['출발할', '있을', '회의가', '아직', '수', '것', '6시쯤', '계신분들이', '안끝나서', '같습니다.', '오피스에']\n",
      "sr ['오피스에 계신분들이 회의가 아직 안끝나서 6시쯤 출발할 수 있을 것 같습니다.']\n",
      "ri ['오피스에 계신분들이 회의가 아직 안끝나서 6시쯤 출발할 수 있을 것 같습니다.']\n",
      "rs ['있을 계신분들이 회의가 아직 안끝나서 6시쯤 출발할 수 오피스에 것 같습니다.']\n",
      "rd ['오피스에 계신분들이 아직 안끝나서 6시쯤 출발할 수 있을 것 같습니다.']\n",
      "   id                                   sentence_1  \\\n",
      "0   1  오피스에 계신분들이 회의가 아직 안끝나서 6시쯤 출발할 수 있을 것 같습니다.   \n",
      "\n",
      "                                    sentence_2  label       source  \\\n",
      "0  오피스에 계신분들이 회의가 아직 덜끝나서 6시쯤 출발할 수 있을 것 같습니다.      5  test_source   \n",
      "\n",
      "   binary-label  \n",
      "0             1  \n"
     ]
    }
   ],
   "source": [
    "sentence = \"오피스에 계신분들이 회의가 아직 안끝나서 6시쯤 출발할 수 있을 것 같습니다.\"\n",
    "sentence2 = \"오피스에 계신분들이 회의가 아직 덜끝나서 6시쯤 출발할 수 있을 것 같습니다.\"\n",
    "print(\"sr\", SR(sentence))\n",
    "print(\"ri\", RI(sentence))\n",
    "print(\"rs\", RS(sentence))\n",
    "print(\"rd\", RD(sentence))\n",
    "\n",
    "# [1, sentence, sentence2, 5, 'test_source', 1]를 기준으로 데이터를 생성합니다\n",
    "\n",
    "test_df = {\n",
    "\t'id': [1],\n",
    "\t'sentence_1': [sentence],\n",
    "\t'sentence_2': [sentence2],\n",
    "\t'label': [5],\n",
    "\t'source': ['test_source'],\n",
    "\t'binary-label': [1]\n",
    "}\n",
    "\n",
    "test_df = pd.DataFrame(test_df, columns=['id', 'sentence_1', 'sentence_2', 'label', 'source', 'binary-label'])\n",
    "print(test_df)"
   ],
   "metadata": {
    "collapsed": false,
    "ExecuteTime": {
     "start_time": "2023-12-16T15:12:49.222455Z",
     "end_time": "2023-12-16T15:12:49.226424Z"
    }
   }
  },
  {
   "cell_type": "code",
   "execution_count": 334,
   "outputs": [
    {
     "name": "stderr",
     "output_type": "stream",
     "text": [
      "1it [00:00, 1773.49it/s]"
     ]
    },
    {
     "name": "stdout",
     "output_type": "stream",
     "text": [
      "   id                                     sentence_1  \\\n",
      "0   1    오피스에 계신분들이 회의가 아직 안끝나서 6시쯤 출발할 수 있을 것 같습니다.   \n",
      "1   1  오피스에 계신분들이 회의가 아직 수 안끝나서 6시쯤 출발할 수 있을 것 같습니다.   \n",
      "2   1    오피스에 계신분들이 회의가 아직 안끝나서 6시쯤 출발할 수 있을 것 같습니다.   \n",
      "\n",
      "                                    sentence_2  label       source  \\\n",
      "0  오피스에 계신분들이 회의가 아직 덜끝나서 6시쯤 출발할 수 있을 것 같습니다.      5  test_source   \n",
      "1  오피스에 계신분들이 회의가 아직 덜끝나서 6시쯤 출발할 수 있을 것 같습니다.      5  test_source   \n",
      "2  오피스에 계신분들이 회의가 아직 덜끝나서 6시쯤 출발할 수 있을 것 같습니다.      5  test_source   \n",
      "\n",
      "   binary-label  \n",
      "0             1  \n",
      "1             1  \n",
      "2             1  \n"
     ]
    },
    {
     "name": "stderr",
     "output_type": "stream",
     "text": [
      "\n"
     ]
    }
   ],
   "source": [
    "aug_test_df = make_augmented_data_ri(test_df, 10)\n",
    "print(aug_test_df)"
   ],
   "metadata": {
    "collapsed": false,
    "ExecuteTime": {
     "start_time": "2023-12-16T15:12:50.467165Z",
     "end_time": "2023-12-16T15:12:50.490032Z"
    }
   }
  },
  {
   "cell_type": "code",
   "execution_count": 265,
   "outputs": [],
   "source": [
    "def make_augmented_data_sr(df, max_len):\n",
    "    augmented_data = []\n",
    "    for i, row in tqdm(df.iterrows()):\n",
    "        augmented_data.append([row['id'], row['sentence_1'], row['sentence_2'], row['label'], row['source'], row['binary-label']])\n",
    "        augmented_sentences = SR(row['sentence_1'])\n",
    "        for sentence in augmented_sentences:\n",
    "            augmented_data.append([row['id'], sentence, row['sentence_2'], row['label'], row['source'], row['binary-label']])\n",
    "        augmented_sentences = SR(row['sentence_2'])\n",
    "        for sentence in augmented_sentences:\n",
    "            augmented_data.append([row['id'], row['sentence_1'], sentence, row['label'], row['source'], row['binary-label']])\n",
    "    augmented_df = pd.DataFrame(augmented_data[:max_len], columns=['id', 'sentence_1', 'sentence_2', 'label', 'source', 'binary-label'])\n",
    "    return augmented_df"
   ],
   "metadata": {
    "collapsed": false,
    "ExecuteTime": {
     "start_time": "2023-12-16T14:57:36.534631Z",
     "end_time": "2023-12-16T14:57:36.537806Z"
    }
   }
  },
  {
   "cell_type": "code",
   "execution_count": 266,
   "outputs": [],
   "source": [
    "def make_augmented_data_ri(df, max_len):\n",
    "    augmented_data = []\n",
    "    for i, row in tqdm(df.iterrows()):\n",
    "        augmented_data.append([row['id'], row['sentence_1'], row['sentence_2'], row['label'], row['source'], row['binary-label']])\n",
    "        augmented_sentences = RI(row['sentence_1'])\n",
    "        for sentence in augmented_sentences:\n",
    "            augmented_data.append([row['id'], sentence, row['sentence_2'], row['label'], row['source'], row['binary-label']])\n",
    "        augmented_sentences = RI(row['sentence_2'])\n",
    "        for sentence in augmented_sentences:\n",
    "            augmented_data.append([row['id'], row['sentence_1'], sentence, row['label'], row['source'], row['binary-label']])\n",
    "    augmented_df = pd.DataFrame(augmented_data[:max_len], columns=['id', 'sentence_1', 'sentence_2', 'label', 'source', 'binary-label'])\n",
    "    return augmented_df"
   ],
   "metadata": {
    "collapsed": false,
    "ExecuteTime": {
     "start_time": "2023-12-16T14:57:36.668346Z",
     "end_time": "2023-12-16T14:57:36.671318Z"
    }
   }
  },
  {
   "cell_type": "code",
   "execution_count": 267,
   "outputs": [],
   "source": [
    "def make_augmented_data_rs(df, max_len):\n",
    "    augmented_data = []\n",
    "    for i, row in tqdm(df.iterrows()):\n",
    "        augmented_data.append([row['id'], row['sentence_1'], row['sentence_2'], row['label'], row['source'], row['binary-label']])\n",
    "        augmented_sentences = RS(row['sentence_1'])\n",
    "        for sentence in augmented_sentences:\n",
    "            augmented_data.append([row['id'], sentence, row['sentence_2'], row['label'], row['source'], row['binary-label']])\n",
    "        augmented_sentences = RS(row['sentence_2'])\n",
    "        for sentence in augmented_sentences:\n",
    "            augmented_data.append([row['id'], row['sentence_1'], sentence, row['label'], row['source'], row['binary-label']])\n",
    "    augmented_df = pd.DataFrame(augmented_data[:max_len], columns=['id', 'sentence_1', 'sentence_2', 'label', 'source', 'binary-label'])\n",
    "    return augmented_df"
   ],
   "metadata": {
    "collapsed": false,
    "ExecuteTime": {
     "start_time": "2023-12-16T14:57:36.830892Z",
     "end_time": "2023-12-16T14:57:36.835474Z"
    }
   }
  },
  {
   "cell_type": "code",
   "execution_count": 268,
   "outputs": [],
   "source": [
    "def make_augmented_data_rd(df, max_len):\n",
    "    augmented_data = []\n",
    "    for i, row in tqdm(df.iterrows()):\n",
    "        augmented_data.append([row['id'], row['sentence_1'], row['sentence_2'], row['label'], row['source'], row['binary-label']])\n",
    "        augmented_sentences = RD(row['sentence_1'])\n",
    "        for sentence in augmented_sentences:\n",
    "            augmented_data.append([row['id'], sentence, row['sentence_2'], row['label'], row['source'], row['binary-label']])\n",
    "        augmented_sentences = RD(row['sentence_2'])\n",
    "        for sentence in augmented_sentences:\n",
    "            augmented_data.append([row['id'], row['sentence_1'], sentence, row['label'], row['source'], row['binary-label']])\n",
    "    augmented_df = pd.DataFrame(augmented_data[:max_len], columns=['id', 'sentence_1', 'sentence_2', 'label', 'source', 'binary-label'])\n",
    "    return augmented_df"
   ],
   "metadata": {
    "collapsed": false,
    "ExecuteTime": {
     "start_time": "2023-12-16T14:57:37.003064Z",
     "end_time": "2023-12-16T14:57:37.012336Z"
    }
   }
  },
  {
   "cell_type": "code",
   "execution_count": 268,
   "outputs": [],
   "source": [],
   "metadata": {
    "collapsed": false,
    "ExecuteTime": {
     "start_time": "2023-12-16T14:57:37.397366Z",
     "end_time": "2023-12-16T14:57:37.399864Z"
    }
   }
  },
  {
   "cell_type": "code",
   "execution_count": 270,
   "outputs": [],
   "source": [
    "def augment_data_sr(df):\n",
    "\t# label을 기준으로 데이터를 나눕니다\n",
    "\tdf_00 = df[df['label'] < 0.5]\n",
    "\tdf_05 = df[(df['label'] < 1) & (0.5 <= df['label'])]\n",
    "\tdf_10 = df[(df['label'] < 1.5) & (1.0 <= df['label'])]\n",
    "\tdf_15 = df[(df['label'] < 2) & (1.5 <= df['label'])]\n",
    "\tdf_20 = df[(df['label'] < 2.5) & (2 <= df['label'])]\n",
    "\tdf_25 = df[(df['label'] < 3) & (2.5 <= df['label'])]\n",
    "\tdf_30 = df[(df['label'] < 3.5) & (3 <= df['label'])]\n",
    "\tdf_35 = df[(df['label'] < 4) & (3.5 <= df['label'])]\n",
    "\tdf_40 = df[(df['label'] < 4.5) & (4 <= df['label'])]\n",
    "\tdf_45 = df[(df['label'] < 5) & (4.5 <= df['label'])]\n",
    "\n",
    "\t# 데이터를 배열에 저장합니다.\n",
    "\tdf_list = [df_00, df_05, df_10, df_15, df_20, df_25, df_30, df_35, df_40, df_45]\n",
    "\tmax_len = max([d.shape[0] for d in df_list])\n",
    "\n",
    "\tprint([d.shape[0] for d in df_list])\n",
    "\n",
    "\taugmented_df = pd.DataFrame()\n",
    "\tfor d in df_list:\n",
    "\t\twhile d.shape[0] < max_len:\n",
    "\t\t\taugment_df_sr = make_augmented_data_sr(d, max_len)\n",
    "\t\t\td = pd.concat([d, augment_df_sr][:max_len])\n",
    "\t\td.reset_index(drop=True, inplace=True)\n",
    "\t\taugmented_df = pd.concat([augmented_df, d])\n",
    "\n",
    "\taugmented_df.reset_index(drop=True, inplace=True)\n",
    "\treturn augmented_df"
   ],
   "metadata": {
    "collapsed": false,
    "ExecuteTime": {
     "start_time": "2023-12-16T14:59:01.621647Z",
     "end_time": "2023-12-16T14:59:01.629444Z"
    }
   }
  },
  {
   "cell_type": "code",
   "execution_count": 271,
   "outputs": [],
   "source": [
    "def augment_data_ri(df):\n",
    "\t# label을 기준으로 데이터를 나눕니다\n",
    "\tdf_00 = df[df['label'] < 0.5]\n",
    "\tdf_05 = df[(df['label'] < 1) & (0.5 <= df['label'])]\n",
    "\tdf_10 = df[(df['label'] < 1.5) & (1.0 <= df['label'])]\n",
    "\tdf_15 = df[(df['label'] < 2) & (1.5 <= df['label'])]\n",
    "\tdf_20 = df[(df['label'] < 2.5) & (2 <= df['label'])]\n",
    "\tdf_25 = df[(df['label'] < 3) & (2.5 <= df['label'])]\n",
    "\tdf_30 = df[(df['label'] < 3.5) & (3 <= df['label'])]\n",
    "\tdf_35 = df[(df['label'] < 4) & (3.5 <= df['label'])]\n",
    "\tdf_40 = df[(df['label'] < 4.5) & (4 <= df['label'])]\n",
    "\tdf_45 = df[(df['label'] < 5) & (4.5 <= df['label'])]\n",
    "\n",
    "\t# 데이터를 배열에 저장합니다.\n",
    "\tdf_list = [df_00, df_05, df_10, df_15, df_20, df_25, df_30, df_35, df_40, df_45]\n",
    "\tmax_len = max([d.shape[0] for d in df_list])\n",
    "\n",
    "\tprint([d.shape[0] for d in df_list])\n",
    "\n",
    "\taugmented_df = pd.DataFrame()\n",
    "\tfor d in df_list:\n",
    "\t\twhile d.shape[0] < max_len:\n",
    "\t\t\taugment_df_ri = make_augmented_data_ri(d, max_len)\n",
    "\t\t\td = pd.concat([d, augment_df_ri][:max_len])\n",
    "\t\td.reset_index(drop=True, inplace=True)\n",
    "\t\taugmented_df = pd.concat([augmented_df, d])\n",
    "\n",
    "\taugmented_df.reset_index(drop=True, inplace=True)\n",
    "\treturn augmented_df"
   ],
   "metadata": {
    "collapsed": false,
    "ExecuteTime": {
     "start_time": "2023-12-16T14:59:03.992103Z",
     "end_time": "2023-12-16T14:59:03.999158Z"
    }
   }
  },
  {
   "cell_type": "code",
   "execution_count": 272,
   "outputs": [],
   "source": [
    "def augment_data_rs(df):\n",
    "\t# label을 기준으로 데이터를 나눕니다\n",
    "\tdf_00 = df[df['label'] < 0.5]\n",
    "\tdf_05 = df[(df['label'] < 1) & (0.5 <= df['label'])]\n",
    "\tdf_10 = df[(df['label'] < 1.5) & (1.0 <= df['label'])]\n",
    "\tdf_15 = df[(df['label'] < 2) & (1.5 <= df['label'])]\n",
    "\tdf_20 = df[(df['label'] < 2.5) & (2 <= df['label'])]\n",
    "\tdf_25 = df[(df['label'] < 3) & (2.5 <= df['label'])]\n",
    "\tdf_30 = df[(df['label'] < 3.5) & (3 <= df['label'])]\n",
    "\tdf_35 = df[(df['label'] < 4) & (3.5 <= df['label'])]\n",
    "\tdf_40 = df[(df['label'] < 4.5) & (4 <= df['label'])]\n",
    "\tdf_45 = df[(df['label'] < 5) & (4.5 <= df['label'])]\n",
    "\n",
    "\t# 데이터를 배열에 저장합니다.\n",
    "\tdf_list = [df_00, df_05, df_10, df_15, df_20, df_25, df_30, df_35, df_40, df_45]\n",
    "\tmax_len = max([d.shape[0] for d in df_list])\n",
    "\n",
    "\tprint([d.shape[0] for d in df_list])\n",
    "\n",
    "\taugmented_df = pd.DataFrame()\n",
    "\tfor d in df_list:\n",
    "\t\twhile d.shape[0] < max_len:\n",
    "\t\t\taugment_df_rs = make_augmented_data_rs(d, max_len)\n",
    "\t\t\td = pd.concat([d,augment_df_rs])\n",
    "\t\td.reset_index(drop=True, inplace=True)\n",
    "\t\taugmented_df = pd.concat([augmented_df, d])\n",
    "\n",
    "\taugmented_df.reset_index(drop=True, inplace=True)\n",
    "\treturn augmented_df"
   ],
   "metadata": {
    "collapsed": false,
    "ExecuteTime": {
     "start_time": "2023-12-16T14:59:04.167364Z",
     "end_time": "2023-12-16T14:59:04.174259Z"
    }
   }
  },
  {
   "cell_type": "code",
   "execution_count": 273,
   "outputs": [],
   "source": [
    "def augment_data_rd(df):\n",
    "\t# label을 기준으로 데이터를 나눕니다\n",
    "\tdf_00 = df[df['label'] < 0.5]\n",
    "\tdf_05 = df[(df['label'] < 1) & (0.5 <= df['label'])]\n",
    "\tdf_10 = df[(df['label'] < 1.5) & (1.0 <= df['label'])]\n",
    "\tdf_15 = df[(df['label'] < 2) & (1.5 <= df['label'])]\n",
    "\tdf_20 = df[(df['label'] < 2.5) & (2 <= df['label'])]\n",
    "\tdf_25 = df[(df['label'] < 3) & (2.5 <= df['label'])]\n",
    "\tdf_30 = df[(df['label'] < 3.5) & (3 <= df['label'])]\n",
    "\tdf_35 = df[(df['label'] < 4) & (3.5 <= df['label'])]\n",
    "\tdf_40 = df[(df['label'] < 4.5) & (4 <= df['label'])]\n",
    "\tdf_45 = df[(df['label'] < 5) & (4.5 <= df['label'])]\n",
    "\n",
    "\t# 데이터를 배열에 저장합니다.\n",
    "\tdf_list = [df_00, df_05, df_10, df_15, df_20, df_25, df_30, df_35, df_40, df_45]\n",
    "\tmax_len = max([d.shape[0] for d in df_list])\n",
    "\n",
    "\tprint([d.shape[0] for d in df_list])\n",
    "\n",
    "\taugmented_df = pd.DataFrame()\n",
    "\tfor d in df_list:\n",
    "\t\twhile d.shape[0] < max_len:\n",
    "\t\t\taugment_df_rd = make_augmented_data_rd(d, max_len)\n",
    "\t\t\td = pd.concat([d, augment_df_rd])\n",
    "\t\td.reset_index(drop=True, inplace=True)\n",
    "\t\taugmented_df = pd.concat([augmented_df, d])\n",
    "\n",
    "\taugmented_df.reset_index(drop=True, inplace=True)\n",
    "\treturn augmented_df"
   ],
   "metadata": {
    "collapsed": false,
    "ExecuteTime": {
     "start_time": "2023-12-16T14:59:04.491519Z",
     "end_time": "2023-12-16T14:59:04.499134Z"
    }
   }
  },
  {
   "cell_type": "code",
   "execution_count": 273,
   "outputs": [],
   "source": [],
   "metadata": {
    "collapsed": false,
    "ExecuteTime": {
     "start_time": "2023-12-16T14:59:05.050461Z",
     "end_time": "2023-12-16T14:59:05.058797Z"
    }
   }
  },
  {
   "cell_type": "code",
   "execution_count": 274,
   "outputs": [
    {
     "name": "stdout",
     "output_type": "stream",
     "text": [
      "[2946, 765, 928, 440, 613, 524, 832, 883, 1151, 151]\n"
     ]
    },
    {
     "name": "stderr",
     "output_type": "stream",
     "text": [
      "765it [00:00, 16790.38it/s]\n",
      "928it [00:00, 19520.03it/s]\n",
      "440it [00:00, 19755.65it/s]\n",
      "1760it [00:00, 19714.39it/s]\n",
      "613it [00:00, 20557.85it/s]\n",
      "2452it [00:00, 20129.99it/s]\n",
      "524it [00:00, 19917.85it/s]\n",
      "2096it [00:00, 20064.68it/s]\n",
      "832it [00:00, 19238.44it/s]\n",
      "883it [00:00, 19441.72it/s]\n",
      "1151it [00:00, 19807.67it/s]\n",
      "151it [00:00, 19085.13it/s]\n",
      "604it [00:00, 19939.24it/s]\n",
      "2416it [00:00, 20058.43it/s]"
     ]
    },
    {
     "name": "stdout",
     "output_type": "stream",
     "text": [
      "                                id            source  \\\n",
      "0       boostcamp-sts-v1-train-004     slack-sampled   \n",
      "1       boostcamp-sts-v1-train-008  petition-sampled   \n",
      "2       boostcamp-sts-v1-train-014     slack-sampled   \n",
      "3       boostcamp-sts-v1-train-015  petition-sampled   \n",
      "4       boostcamp-sts-v1-train-019  petition-sampled   \n",
      "...                            ...               ...   \n",
      "41178  boostcamp-sts-v1-train-7748      petition-rtt   \n",
      "41179  boostcamp-sts-v1-train-7748      petition-rtt   \n",
      "41180  boostcamp-sts-v1-train-7748      petition-rtt   \n",
      "41181  boostcamp-sts-v1-train-7748      petition-rtt   \n",
      "41182  boostcamp-sts-v1-train-7748      petition-rtt   \n",
      "\n",
      "                                              sentence_1  \\\n",
      "0                                             뿌듯뿌듯 하네요!!   \n",
      "1                                 미세먼지 해결이 가장 시급한 문제입니다!   \n",
      "2                        아래는 게임 내에서 함께 팀을 맺고 캡쳐한 이미지입니다.   \n",
      "3                                     LG전자 스마트폰 생산 중단 청원   \n",
      "4                                 내년 러시아월드컵 자진포기 청원드립니다.   \n",
      "...                                                  ...   \n",
      "41178  작년에 올린 국민신문고(www.epeople.go.kr) 공개제안 심사를 고의적으로...   \n",
      "41179  작년에 올린 국민신문고(www.epeople.go.kr) 공개제안 심사를 고의적으로...   \n",
      "41180  작년에 올린 국민신문고(www.epeople.go.kr) 공개제안 심사를 고의적으로...   \n",
      "41181  작년에 올린 국민신문고(www.epeople.go.kr) 공개제안 심사를 고의적으로...   \n",
      "41182  작년에 올린 국민신문고(www.epeople.go.kr) 공개제안 심사를 고의적으로...   \n",
      "\n",
      "                                              sentence_2  label  binary-label  \n",
      "0                                  꼬옥 실제로 한번 뵈어요 뿌뿌뿌~!~!    0.0           0.0  \n",
      "1                                가장 시급한 것이 신생아실 관리입니다!!!    0.4           0.0  \n",
      "2                       여러분들간의 다양한 아이디어를 제안하고 나누는 채널입니다.    0.0           0.0  \n",
      "3                                LG전자서비스의 노조 와해를 조사해주세요.    0.4           0.0  \n",
      "4                            2023 아시안컵 유치에 공동개최를 반대 합니다.    0.0           0.0  \n",
      "...                                                  ...    ...           ...  \n",
      "41178  국민신문고(www.epeople.go.kr)가 작년에 게시한 공개안 심사를 고의로 ...    4.8           1.0  \n",
      "41179  국민신문고(www.epeople.go.kr)가 작년에 게시한 공개안 심사를 고의로 ...    4.8           1.0  \n",
      "41180  국민신문고(www.epeople.go.kr)가 작년에 게시한 공개안 심사를 고의로 ...    4.8           1.0  \n",
      "41181  국민신문고(www.epeople.go.kr)가 작년에 게시한 공개안 심사를 고의로 ...    4.8           1.0  \n",
      "41182  국민신문고(www.epeople.go.kr)가 작년에 게시한 공개안 심사를 고의로 ...    4.8           1.0  \n",
      "\n",
      "[41183 rows x 6 columns]\n"
     ]
    },
    {
     "name": "stderr",
     "output_type": "stream",
     "text": [
      "\n"
     ]
    }
   ],
   "source": [
    "augmented_df_sr = augment_data_sr(df)\n",
    "print(augmented_df_sr)"
   ],
   "metadata": {
    "collapsed": false,
    "ExecuteTime": {
     "start_time": "2023-12-16T14:59:05.303951Z",
     "end_time": "2023-12-16T14:59:06.150814Z"
    }
   }
  },
  {
   "cell_type": "code",
   "execution_count": 275,
   "outputs": [
    {
     "data": {
      "text/plain": "(41183, 6)"
     },
     "execution_count": 275,
     "metadata": {},
     "output_type": "execute_result"
    }
   ],
   "source": [
    "augmented_df_sr.shape"
   ],
   "metadata": {
    "collapsed": false,
    "ExecuteTime": {
     "start_time": "2023-12-16T14:59:07.172593Z",
     "end_time": "2023-12-16T14:59:07.175698Z"
    }
   }
  },
  {
   "cell_type": "code",
   "execution_count": 276,
   "outputs": [
    {
     "data": {
      "text/plain": "<Figure size 800x600 with 1 Axes>",
      "image/png": "[encoded data removed]"
     },
     "metadata": {},
     "output_type": "display_data"
    },
    {
     "data": {
      "text/plain": "<Figure size 800x600 with 1 Axes>",
      "image/png": "[encoded data removed]"
     },
     "metadata": {},
     "output_type": "display_data"
    },
    {
     "data": {
      "text/plain": "<Figure size 800x600 with 1 Axes>",
      "image/png": "[encoded data removed]"
     },
     "metadata": {},
     "output_type": "display_data"
    }
   ],
   "source": [
    "draw_graph(augmented_df_sr)"
   ],
   "metadata": {
    "collapsed": false,
    "ExecuteTime": {
     "start_time": "2023-12-16T14:59:07.552793Z",
     "end_time": "2023-12-16T14:59:07.713909Z"
    }
   }
  },
  {
   "cell_type": "code",
   "execution_count": 192,
   "outputs": [],
   "source": [],
   "metadata": {
    "collapsed": false,
    "ExecuteTime": {
     "start_time": "2023-12-16T14:33:49.722239Z",
     "end_time": "2023-12-16T14:33:49.796999Z"
    }
   }
  },
  {
   "cell_type": "code",
   "execution_count": null,
   "outputs": [],
   "source": [],
   "metadata": {
    "collapsed": false
   }
  }
 ],
 "metadata": {
  "kernelspec": {
   "display_name": "Python 3",
   "language": "python",
   "name": "python3"
  },
  "language_info": {
   "codemirror_mode": {
    "name": "ipython",
    "version": 2
   },
   "file_extension": ".py",
   "mimetype": "text/x-python",
   "name": "python",
   "nbconvert_exporter": "python",
   "pygments_lexer": "ipython2",
   "version": "2.7.6"
  }
 },
 "nbformat": 4,
 "nbformat_minor": 0
}
